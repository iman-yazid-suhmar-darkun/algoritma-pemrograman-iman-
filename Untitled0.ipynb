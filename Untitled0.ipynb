{
  "nbformat": 4,
  "nbformat_minor": 0,
  "metadata": {
    "colab": {
      "provenance": [],
      "authorship_tag": "ABX9TyP1+1KPQyhkLa1tijDA9yiL",
      "include_colab_link": true
    },
    "kernelspec": {
      "name": "python3",
      "display_name": "Python 3"
    },
    "language_info": {
      "name": "python"
    }
  },
  "cells": [
    {
      "cell_type": "markdown",
      "metadata": {
        "id": "view-in-github",
        "colab_type": "text"
      },
      "source": [
        "<a href=\"https://colab.research.google.com/github/iman-yazid-suhmar-darkun/algoritma-pemrograman-iman-/blob/main/Untitled0.ipynb\" target=\"_parent\"><img src=\"https://colab.research.google.com/assets/colab-badge.svg\" alt=\"Open In Colab\"/></a>"
      ]
    },
    {
      "cell_type": "markdown",
      "source": [],
      "metadata": {
        "id": "3jbNpyT_z-l8"
      }
    },
    {
      "cell_type": "markdown",
      "source": [
        "Algoritma pemrograman\n",
        "\n",
        "Apa itu Algoritma Algoritma pemrograman Apa itu Algoritma -Algoritma adalah uruten langkah langkah logis yg digunakan untuk menyelesaikan masalah -Algoritma adalah dasar dari pemrograman komputer Membantu menyelesaikan masalah secara efisien\n",
        "\n",
        "Definisi Program -Adalah kumpulan Instruksi-Instruksi tersendiri biasanya disebut source code yang dibuat oleh praglomer Paradigma .\n",
        "\n",
        "Paradigma Pemrograman -Pemrograman prosedural -Berdasarkan urutan-urutan, sekuensial\n",
        "program adalah suatu pang kaian prosedur untuk memanipulasi data. Prosedur merupakan kumpulan Instruksi Yang Di Kerjakan secara berurutan\n",
        "Pemrograman Fungsional -Berdasarkan teori Fungsi matematika -Fungsi merupakan dasar utama program\n",
        "\n",
        "Pemrograman Terstruktur\n",
        "\n",
        "Secara berurutan dan terstruktur\n",
        "Program dapat dibagi-bagi menjadi: prosedur dan puigs -contoh Pascal dan c\n",
        "pemrograman Moduler -pemrograman ini membentuk banyak modul - modul merupakan kumpulan dari prosedur dan Fungsi yg berdiri sendiri -contoh: Modula -2 atau ADA.\n",
        "\n",
        "Algoritma di Era Kecerdasan Buatan\n",
        "a. Pada abad ke-21, algoritma memegang peranan penting dalam perkembangan\n",
        "\n",
        "kecerdasan buatan (Ai), machine learning, dan big data.\n",
        "\n",
        "b. Algoritma Neural Networks dan Deep Learning memungkinkan komputer untuk \"belajar\" dari data dan membuat keputusan yang kompleks.\n",
        "\n",
        "c Penerapan algoritma pada search engines (Google), media sosial, hingga otomasi di berbagai industri membuat algoritma menjadi bagian tak terpisahkan dari kehidupan modern.\n",
        "\n",
        "Masa Depan Algoritma\n",
        "a. Di masa depan, algoritma terus berkembang dengan peningkatan dalam komputasi kuantum, pengenalan pola, dan optimasi sistem kompleks.\n",
        "\n",
        "b. Algoritma tidak hanya berperan dalam komputerisasi tetapi juga dalam pemecahan masalah di bidang lain seperti medis, keuangan, dan robotik.\n",
        "\n",
        "Contoh Algoritma dalam kehidupan nyata:\n",
        "\n",
        "Jika seorang ingin memasak atau membuat kue, baik itu melihat resep ataupun tidak pasti akan melakukan suatu langkah-langkah tertentu sehingga masakannya ataukuenya jadi.\n",
        "\n",
        "Jika seseorang ingin mengirim surat kepada kenalannya di tempat lain, langkah yang harus dilakukan adalah:\n",
        "\n",
        "-Menulis surat\n",
        "\n",
        "-Surat dimasukkan ke dalam amplop tertutup\n",
        "\n",
        "Algoritme di Era komputasi modern\n",
        "\n",
        "A. Pada abad ke 20 perkembangan Ilmu komputer menciptakan kebutuhan besar akan Algoritme yangوlebih kompleks\n",
        "\n",
        "b. Alan Turing bapak Ilmu komputer modern Mengembangkan model komputasi teoritis yang di sebut mesir turing pada 1936\n",
        "\n",
        "c. John vou neuman merancang arsitektur kompotasi Yang mendukung eksekusi Algoritma\n",
        "\n",
        "6 Perkembangan Algoritmadi dunia digital\n",
        "\n",
        "A.Algoritmo menjadi pusat dari berbagai Aplikas kom putasi modern\n",
        "\n",
        "B. Algoritma sorting seperti bubble Sort Quick Sort dan Merge Sort mulai dikembangkan untur mengatur data\n",
        "\n",
        "C.Pada 1950an-dan 19600m Doland Knuth menerbitkan buku The Art Of Komputer programing. Dia memperken banyak metode dan strategi optimasi Algoritme\n",
        "\n",
        "D.Algoritma kriptografi untuk mengamankan data dunia digital\n",
        "\n",
        "Algoritma di Era Kecerdasan Buatan\n",
        "a. Pada abad ke-21, algoritma memegang peranan penting dalam perkembangan\n",
        "\n",
        "kecerdasan buatan (Ai), machine learning, dan big data.\n",
        "\n",
        "b. Algoritma Neural Networks dan Deep Learning memungkinkan komputer untuk \"belajar\" dari data dan membuat keputusan yang kompleks.\n",
        "\n",
        "c Penerapan algoritma pada search engines (Google), media sosial, hingga otomasi di berbagai industri membuat algoritma menjadi bagian tak terpisahkan dari kehidupan modern.\n",
        "\n",
        "Siapa tokoh yg menjadi asal usul dari Istilah \"Algoritma\".. dan Apa kontribusi utamanya dalam perkembangan ilmu Matematika ?\n",
        "\n",
        "tokoh yang menjadi asal usul adalah muhammad lbn Musa Al Khwarizmi konstribusinya Pada perkembangan Ilmu matematika dalam bidang Aljabar, Aritmatika dan Algoritma\n",
        "\n",
        "2.Algoritma eucid adalah salah Satu Algoritma yang paling awal yang masih digunakan hingga saat ini untuk Apa Algoritma ini di gunakan? untuk menemukan pembagi terbesar bilangen\n",
        "\n",
        "3 siapa yang di anggap sebagal programer pertama didunia dan mesin komputasi apa yang ia bantu deskripsikan untuk menjalankan Algoritma? Ada lovelence, Algoritme pemrograman/mesin analitical\n",
        ".Apa konstribusi utama alan turing dalam sejarah Algoritma dan konsep penting yang di perkenalkan nya dalam teori komputasi? mengembangkan model komputasi Horitis yg disebut mesin turing mengkonseptualisasilkan ide bahwa setiap proses komputasi dapat dipecah menjadi serangkaian langkah langkah Algoritmis\n",
        "\n",
        "5 Algoritma apa yg banyak digunakan dalam kecerdasan buatan dan machine learning untuk mengerjakan mesin mengenali pola dari data? meurel networks dan deep learning"
      ],
      "metadata": {
        "id": "w8ajL7gc0QKW"
      }
    },
    {
      "cell_type": "markdown",
      "source": [],
      "metadata": {
        "id": "lGtHMyqR0PZM"
      }
    }
  ]
}