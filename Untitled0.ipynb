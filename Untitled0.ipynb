{
  "nbformat": 4,
  "nbformat_minor": 0,
  "metadata": {
    "colab": {
      "provenance": [],
      "authorship_tag": "ABX9TyMdFSly7yt8/p5Fbg2yBuxv",
      "include_colab_link": true
    },
    "kernelspec": {
      "name": "python3",
      "display_name": "Python 3"
    },
    "language_info": {
      "name": "python"
    }
  },
  "cells": [
    {
      "cell_type": "markdown",
      "metadata": {
        "id": "view-in-github",
        "colab_type": "text"
      },
      "source": [
        "<a href=\"https://colab.research.google.com/github/iman-yazid-suhmar-darkun/algoritma-pemrograman-iman-/blob/main/Untitled0.ipynb\" target=\"_parent\"><img src=\"https://colab.research.google.com/assets/colab-badge.svg\" alt=\"Open In Colab\"/></a>"
      ]
    },
    {
      "cell_type": "markdown",
      "source": [
        "# VARIABEL PYTHON\n",
        "\n",
        "Int = digunakan untuk mendeklarasikan angka (1-9).\n",
        "\n",
        "String = digunakan untuk mendeklarasikan sebuah (a-z) dan tanda baca, string juga memiliki tanda petik (') pada value/nilainya.\n",
        "\n",
        "Float = digunakan untuk mendeklarasikan decimal (1,5 1,7 4,0 3,14)."
      ],
      "metadata": {
        "id": "3jbNpyT_z-l8"
      }
    },
    {
      "cell_type": "code",
      "source": [
        "#contoh 1\n",
        "\n",
        "a=7\n",
        "b=5\n",
        "c=a+b\n",
        "\n",
        "print(c)"
      ],
      "metadata": {
        "id": "ppTkoXTaapR_"
      },
      "execution_count": null,
      "outputs": []
    },
    {
      "cell_type": "markdown",
      "source": [],
      "metadata": {
        "id": "lGtHMyqR0PZM"
      }
    },
    {
      "cell_type": "markdown",
      "source": [
        "Pada contoh pertama dijelaskan pejumlahan dalam bentuk Int, yaitu pendeklarasian dalam bentuk angka (1-9)."
      ],
      "metadata": {
        "id": "_CRZQ2jnawgN"
      }
    },
    {
      "cell_type": "code",
      "source": [
        "#contoh 2\n",
        "\n",
        "a= A'\n",
        "b='Wall'\n",
        "c=a+b\n",
        "\n",
        "print(c)"
      ],
      "metadata": {
        "id": "rdg0BW8pa3Mi"
      },
      "execution_count": null,
      "outputs": []
    },
    {
      "cell_type": "markdown",
      "source": [
        "Pada contoh kedua dijelaskan penjumlahan dalam bentuk str, yaitu pendeklarasian bentuk huruf (a-z) dan tanda baca. penggunaan string ditandai dengan penggunaan tanda kutip (')."
      ],
      "metadata": {
        "id": "-XJIsrZ9a9-5"
      }
    },
    {
      "cell_type": "code",
      "source": [
        "#contoh 3\n",
        "\n",
        "a=1.2\n",
        "b=1.3\n",
        "c=a+b\n",
        "\n",
        "print(c)"
      ],
      "metadata": {
        "id": "7ZkGmj2PbIQ2"
      },
      "execution_count": null,
      "outputs": []
    },
    {
      "cell_type": "markdown",
      "source": [
        "Pada contoh ketiga dijelaskan penjumlahan dalam bentuk float, yaitu pendeklarasian decimal. Penggunaan float di tandai dengan adanya bilangan desimal atau , contoh 3 menjadi 3,0"
      ],
      "metadata": {
        "id": "SLFTvA35bMuF"
      }
    },
    {
      "cell_type": "markdown",
      "source": [
        "#OPERATOR ARITMATIKA\n",
        "\n",
        "1. Penjumlahan = +\n",
        "2. Pengurangan = -\n",
        "3. Perkalian = *\n",
        "4. Pembagian = /\n",
        "5. Perpangkatan (eksponen) = **\n",
        "6. Persen (modulus) = %"
      ],
      "metadata": {
        "id": "joO0MY5NbqWA"
      }
    },
    {
      "cell_type": "code",
      "source": [
        "#Contoh Penjumlahan (+)\n",
        "\n",
        "a=10\n",
        "b=5\n",
        "c=a+b\n",
        "print(c)\n",
        "\n",
        "\n",
        "#Contoh Pengurangan (-)\n",
        "\n",
        "a=10\n",
        "b=5\n",
        "c=a-b\n",
        "print(c)\n",
        "\n",
        "\n",
        "#Contoh Perkalian (*)\n",
        "\n",
        "a=10\n",
        "b=5\n",
        "c=a*b\n",
        "print(c)\n",
        "\n",
        "#Contoh Pembagian (/)\n",
        "\n",
        "a=10\n",
        "b=5\n",
        "c=a/b\n",
        "print(c)\n",
        "\n",
        "#Contoh Perpangkatan/eksponen (**)\n",
        "\n",
        "a=10\n",
        "b=5\n",
        "c=a**b\n",
        "print(c)\n",
        "\n",
        "\n",
        "#Contoh Persen/modulus (%)\n",
        "\n",
        "a=15\n",
        "b=2\n",
        "c=a%b\n",
        "\n",
        "print(c)"
      ],
      "metadata": {
        "id": "t-jVwK2WbtI_"
      },
      "execution_count": null,
      "outputs": []
    },
    {
      "cell_type": "markdown",
      "source": [],
      "metadata": {
        "id": "HqcH8YX9buRF"
      }
    },
    {
      "cell_type": "markdown",
      "source": [
        "#OPERATOR PERBANDINGAN\n",
        "\n",
        "1. Lebih besar : >  (a>70 : 71-100)\n",
        "2. Lebih kecil : <  (a<70 : 69-0)\n",
        "3. Lebih besar sama dengan : >=  (a>=70 : 70-100)\n",
        "4. Lebih kecil sama dengan : <=  (a<=70 : 70-0)\n",
        "5. Tidak sama dengan : !=  (jelek!=bagus: true&false : ingkaran)\n",
        "6. Sama dengan sama : == (bagus==bagus: true)"
      ],
      "metadata": {
        "id": "JaLr5k9Tb7xF"
      }
    },
    {
      "cell_type": "code",
      "source": [
        "#Contoh lebih besar (>)\n",
        "\n",
        "x=200\n",
        "y=100\n",
        "z=x>y\n",
        "print(z)"
      ],
      "metadata": {
        "id": "Jmuoc3-ucDsF"
      },
      "execution_count": null,
      "outputs": []
    },
    {
      "cell_type": "markdown",
      "source": [
        "- Difungsikan untuk mencari nilai yang lebih besar"
      ],
      "metadata": {
        "id": "Wj0naQE5cNJK"
      }
    },
    {
      "cell_type": "code",
      "source": [
        "#Contoh lebih kecil (<)\n",
        "\n",
        "x=60\n",
        "y=75\n",
        "z=x<y\n",
        "print(z)"
      ],
      "metadata": {
        "id": "5mVkogZPcWZj"
      },
      "execution_count": null,
      "outputs": []
    },
    {
      "cell_type": "markdown",
      "source": [
        "- Di fungsikan untuk mencari nilai yang lebih besar atau sama dengan nilai sebelah kanan."
      ],
      "metadata": {
        "id": "rATju2pswDZV"
      }
    },
    {
      "cell_type": "code",
      "source": [
        "#Contoh lebih kecil sama dengan (<=)\n",
        "\n",
        "x=70\n",
        "y=75\n",
        "z=x<=y\n",
        "print(z)"
      ],
      "metadata": {
        "id": "0_I-65jtwJ4w"
      },
      "execution_count": null,
      "outputs": []
    },
    {
      "cell_type": "markdown",
      "source": [
        "- Di fungsikan untuk mencari nilai yang lebih besar atau sama dengan nilai sebelah kanan."
      ],
      "metadata": {
        "id": "PNlweWPVwO7W"
      }
    },
    {
      "cell_type": "code",
      "source": [
        "#Contoh tidak sama dengan (!=)\n",
        "\n",
        "x=\"cowo\"\n",
        "y=\"cewe\"\n",
        "z=x!=y\n",
        "print(z)"
      ],
      "metadata": {
        "id": "B7m6Yg-5wWPd"
      },
      "execution_count": null,
      "outputs": []
    },
    {
      "cell_type": "markdown",
      "source": [
        "- Di fungsikan untuk menyatakan bahwasanya nilai antara sebelah kanan dan kiri berbeda/tidak sama."
      ],
      "metadata": {
        "id": "s0ahTVDowmm8"
      }
    },
    {
      "cell_type": "code",
      "source": [],
      "metadata": {
        "id": "S84R_gn8wvWT"
      },
      "execution_count": null,
      "outputs": []
    }
  ]
}