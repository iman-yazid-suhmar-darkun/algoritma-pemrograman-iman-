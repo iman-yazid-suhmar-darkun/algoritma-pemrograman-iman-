{
  "nbformat": 4,
  "nbformat_minor": 0,
  "metadata": {
    "colab": {
      "provenance": [],
      "authorship_tag": "ABX9TyPCQv+HgyspoU5OlEMSnOUG",
      "include_colab_link": true
    },
    "kernelspec": {
      "name": "python3",
      "display_name": "Python 3"
    },
    "language_info": {
      "name": "python"
    }
  },
  "cells": [
    {
      "cell_type": "markdown",
      "metadata": {
        "id": "view-in-github",
        "colab_type": "text"
      },
      "source": [
        "<a href=\"https://colab.research.google.com/github/iman-yazid-suhmar-darkun/algoritma-pemrograman-iman-/blob/main/tugas%20percabangan%20.ipynb\" target=\"_parent\"><img src=\"https://colab.research.google.com/assets/colab-badge.svg\" alt=\"Open In Colab\"/></a>"
      ]
    },
    {
      "cell_type": "code",
      "source": [
        "jumlah_pembelian = float(input(\"Masukkan jumlah pembelian: \"))\n",
        "\n",
        "if jumlah_pembelian < 100.000:\n",
        "  print(\"Tidak ada diskon\")\n",
        "elif jumlah_pembelian >= 100.000 and jumlah_pembelian < 500.000:\n",
        "  print(\"Diskon 10%\")\n",
        "elif jumlah_pembelian >= 500.000 and jumlah_pembelian < 100.0000:\n",
        "  print(\"Diskon 20%\")\n",
        "else:\n",
        "  print(\"Diskon 20%\")"
      ],
      "metadata": {
        "colab": {
          "base_uri": "https://localhost:8080/"
        },
        "id": "JdRMQkha3HUB",
        "outputId": "a39c96f4-d683-415d-f837-ca00d3aff194"
      },
      "execution_count": null,
      "outputs": [
        {
          "output_type": "stream",
          "name": "stdout",
          "text": [
            "Masukkan jumlah pembelian: 500000\n",
            "Diskon 20%\n"
          ]
        }
      ]
    },
    {
      "cell_type": "code",
      "source": [
        "umur = int(input(\"Masukkan umur Anda: \"))\n",
        "if umur < 12:\n",
        "    print(\"Anak-anak\")\n",
        "elif umur <= 17:\n",
        "    print(\"Remaja\")\n",
        "elif umur <= 64:\n",
        "    print(\"Dewasa\")\n",
        "else:\n",
        "    print(\"Lansia\")"
      ],
      "metadata": {
        "colab": {
          "base_uri": "https://localhost:8080/"
        },
        "id": "SIx6kIU95Md8",
        "outputId": "e012cc61-53fa-47b5-d4e5-9c6340cab892"
      },
      "execution_count": null,
      "outputs": [
        {
          "output_type": "stream",
          "name": "stdout",
          "text": [
            "Masukkan umur Anda: 90\n",
            "Lansia\n"
          ]
        }
      ]
    },
    {
      "cell_type": "code",
      "source": [
        "nilai = int(input(\"Masukkan nilai ujian: \"))\n",
        "if nilai >= 90:\n",
        "    print(\"Peringkat A\")\n",
        "elif nilai >= 80:\n",
        "    print(\"Peringkat B\")\n",
        "elif nilai >= 70:\n",
        "    print(\"Peringkat C\")\n",
        "else:\n",
        "    print(\"Peringkat D\")"
      ],
      "metadata": {
        "colab": {
          "base_uri": "https://localhost:8080/"
        },
        "id": "8OOjh9H954kR",
        "outputId": "82282b1f-029e-4442-d2b1-22019f27cc07"
      },
      "execution_count": null,
      "outputs": [
        {
          "output_type": "stream",
          "name": "stdout",
          "text": [
            "Masukkan nilai ujian: 80\n",
            "Peringkat B\n"
          ]
        }
      ]
    },
    {
      "cell_type": "code",
      "source": [
        "a=int(input(\"Masukkan Tahun: \"))\n",
        "if a % 4 == 0:\n",
        "    if a % 100 == 0:\n",
        "        if a % 400 == 0:\n",
        "            print(\"Tahun kabisat\")\n",
        "        else:\n",
        "            print(\"Bukan tahun kabisat\")"
      ],
      "metadata": {
        "id": "N6-5Y-cE7dzm",
        "outputId": "1d1b1007-8e1e-49b5-dd5b-88d57fe1e16b",
        "colab": {
          "base_uri": "https://localhost:8080/"
        }
      },
      "execution_count": null,
      "outputs": [
        {
          "output_type": "stream",
          "name": "stdout",
          "text": [
            "Masukkan Tahun: 400\n",
            "Tahun kabisat\n"
          ]
        }
      ]
    },
    {
      "cell_type": "code",
      "source": [
        "a = int(input(\"Masukkan angka pertama: \"))\n",
        "b = int(input(\"Masukkan angka kedua: \"))\n",
        "c = input(\"Masukkan operasi: \")\n",
        "if c == \"+\":\n",
        "  print(a+b)\n",
        "elif c == \"-\":\n",
        "  print(a-b)\n",
        "elif c == \"*\":\n",
        "  print(a*b)\n",
        "elif c == \"/\":\n",
        "  print(a/b)\n",
        "else:\n",
        "  print(\"operasi tidak valid\")"
      ],
      "metadata": {
        "colab": {
          "base_uri": "https://localhost:8080/"
        },
        "id": "ugOjNsOG7qJF",
        "outputId": "de83ea41-2912-4cda-9a78-d793eb7afaca"
      },
      "execution_count": null,
      "outputs": [
        {
          "output_type": "stream",
          "name": "stdout",
          "text": [
            "Masukkan angka pertama: 1\n",
            "Masukkan angka kedua: 1\n",
            "Masukkan operasi: -\n",
            "0\n"
          ]
        }
      ]
    },
    {
      "cell_type": "code",
      "source": [
        "a = int(input(\"Masukkan angka pertama: \"))\n",
        "b = int(input(\"Masukkan angka kedua: \"))\n",
        "c = input(\"Masukkan operasi: \")\n",
        "if c == \"+\":\n",
        "  print(a+b)\n",
        "elif c == \"-\":\n",
        "  print(a-b)\n",
        "elif c == \"*\":\n",
        "  print(a*b)\n",
        "elif c == \"/\":\n",
        "  print(a/b)\n",
        "else:\n",
        "  print(\"operasi tidak valid\")"
      ],
      "metadata": {
        "colab": {
          "base_uri": "https://localhost:8080/"
        },
        "id": "C-A0S8ed8Mpz",
        "outputId": "163ea98a-f998-42e8-ff46-80029647ea86"
      },
      "execution_count": 28,
      "outputs": [
        {
          "output_type": "stream",
          "name": "stdout",
          "text": [
            "Masukkan angka pertama: 1\n",
            "Masukkan angka kedua: 2\n",
            "Masukkan operasi: /\n",
            "0.5\n"
          ]
        }
      ]
    }
  ]
}